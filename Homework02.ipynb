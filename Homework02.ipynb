{
 "cells": [
  {
   "cell_type": "markdown",
   "metadata": {
    "id": "QshK8s21WBrf"
   },
   "source": [
    "# Homework02\n",
    "\n",
    "Some exercises to get started with Python, lists and objects\n",
    "\n",
    "## Goals\n",
    "\n",
    "- Gain experience with a popular scripting language used for ML/AI projects and research\n",
    "- Get familiar with Python's notation for lists and objects\n",
    "- Experiment with Python's unique functionalities for processing lists and objects"
   ]
  },
  {
   "cell_type": "markdown",
   "metadata": {
    "id": "7Hf8SXUwWOho"
   },
   "source": [
    "### Setup\n",
    "\n",
    "Run the following 2 cells to import all necessary libraries and helpers for Homework 02"
   ]
  },
  {
   "cell_type": "code",
   "execution_count": null,
   "metadata": {},
   "outputs": [],
   "source": [
    "!wget -q https://github.com/PSAM-5020-2025F-A/5020-utils/raw/main/src/data_utils.py"
   ]
  },
  {
   "cell_type": "code",
   "execution_count": null,
   "metadata": {},
   "outputs": [],
   "source": [
    "import matplotlib.pyplot as plt\n",
    "\n",
    "from Homework02_utils import Tests\n",
    "from data_utils import object_from_json_url"
   ]
  },
  {
   "cell_type": "markdown",
   "metadata": {
    "id": "CR-PEugdX6Tz"
   },
   "source": [
    "### Exercise 01:\n",
    "\n",
    "Finding the sum of integer sequences.\n",
    "\n",
    "Create a function ```sum_of_ints(i0, i1)``` that returns the sum of all integers between two integers.\n",
    "\n",
    "For example, ```sum_of_ints(4, 32)``` should return $522$.\n"
   ]
  },
  {
   "cell_type": "code",
   "execution_count": null,
   "metadata": {
    "tags": [
     "work_cell"
    ]
   },
   "outputs": [],
   "source": [
    "## Work on exercise 01 here\n",
    "\n",
    "def sum_of_ints(i0, i1):\n",
    "  # TODO: fill in this function\n",
    "  return 0\n"
   ]
  },
  {
   "cell_type": "markdown",
   "metadata": {
    "id": "MKA9RSFMYn9p"
   },
   "source": [
    "### Exercise 01 testing:\n",
    "\n",
    "Running the following cell will test the ```sum_of_ints()``` function on a small set of input pairs and report any combination that isn't computing correctly, if any."
   ]
  },
  {
   "cell_type": "code",
   "execution_count": null,
   "metadata": {},
   "outputs": [],
   "source": [
    "# Test 01\n",
    "Tests.test(\"01\", sum_of_ints)"
   ]
  },
  {
   "cell_type": "markdown",
   "metadata": {
    "id": "tlj9rUWg_eLq"
   },
   "source": [
    "### Exercise 02:\n",
    "\n",
    "Working with lists and dictionaries/objects.\n",
    "\n",
    "Write a function `sum_objects(in_list)` that accept a list of objects and returns a sum according to the following specifications:\n",
    "\n",
    "Each object in the list has 2 fields, `type` and `amount`, and so will look something like this:\n",
    "\n",
    "```python\n",
    "test_list = [\n",
    "  { \"type\": \"cost\", \"amount\": 10.00 },\n",
    "  { \"type\": \"cost\", \"amount\": 15.99 },\n",
    "  { \"type\": \"income\", \"amount\": 150.25 },\n",
    "  { \"type\": \"income\", \"amount\": 243.52 },\n",
    "]\n",
    "```\n",
    "\n",
    "The `sum_objects(in_list)` function should iterate through all of the items in `in_list` and sum their `amount`s using positive values when `type` is `\"income\"`, and negative values when `type` is `\"cost\"`.\n",
    "\n",
    "For example, passing the above list to the function should return $367.78$."
   ]
  },
  {
   "cell_type": "code",
   "execution_count": null,
   "metadata": {
    "tags": [
     "work_cell"
    ]
   },
   "outputs": [],
   "source": [
    "# Implement 02 here\n",
    "\n",
    "def sum_objects(in_list):\n",
    "  # TODO: fill this in\n",
    "  return 0\n"
   ]
  },
  {
   "cell_type": "code",
   "execution_count": null,
   "metadata": {},
   "outputs": [],
   "source": [
    "# Run this cell to test if function returns 367.78\n",
    "\n",
    "test_list = [\n",
    "  { \"type\": \"cost\", \"amount\": 10.00 },\n",
    "  { \"type\": \"cost\", \"amount\": 15.99 },\n",
    "  { \"type\": \"income\", \"amount\": 150.25 },\n",
    "  { \"type\": \"income\", \"amount\": 243.52 },\n",
    "]\n",
    "\n",
    "sum_objects(test_list)"
   ]
  },
  {
   "cell_type": "markdown",
   "metadata": {
    "id": "h26qEqysLLrq"
   },
   "source": [
    "#### Exercise 02 test:\n",
    "\n",
    "Run the following cell to test the `sum_objects()` function."
   ]
  },
  {
   "cell_type": "code",
   "execution_count": null,
   "metadata": {},
   "outputs": [],
   "source": [
    "# Test 02\n",
    "Tests.test(\"02\", sum_objects)"
   ]
  }
 ],
 "metadata": {
  "colab": {
   "authorship_tag": "ABX9TyPxe2qYxIG7EblrvD1C4Pmv",
   "provenance": []
  },
  "kernelspec": {
   "display_name": "Python 3.9.17 ('hf-model')",
   "language": "python",
   "name": "python3"
  },
  "language_info": {
   "codemirror_mode": {
    "name": "ipython",
    "version": 3
   },
   "file_extension": ".py",
   "mimetype": "text/x-python",
   "name": "python",
   "nbconvert_exporter": "python",
   "pygments_lexer": "ipython3",
   "version": "3.10.13"
  },
  "vscode": {
   "interpreter": {
    "hash": "89e384cab7c47fb35ec95d2248b519cf922ee174880eed636c26cdfb6c4df768"
   }
  }
 },
 "nbformat": 4,
 "nbformat_minor": 0
}
